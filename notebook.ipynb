{
 "cells": [
  {
   "cell_type": "code",
   "execution_count": 1,
   "metadata": {},
   "outputs": [],
   "source": [
    "# Importing PyTorch, torchvision, and other libraries needed for the task\n",
    "import torch  # PyTorch for building and training neural networks\n",
    "from torchvision.datasets import ImageFolder  # To load images from a folder structure\n",
    "from torchvision import transforms  # For applying transformations (e.g., resizing, normalizing) to the images\n",
    "from torch.utils.data import dataloader, DataLoader  # To create data loaders for training and testing\n",
    "import matplotlib.pyplot as plt  # For plotting graphs (like loss/accuracy over time)\n",
    "from torch import optim  # PyTorch's optimization module for updating weights\n",
    "from torch import nn  # PyTorch's neural network module, used to define layers\n",
    "# Importing specific metrics from torchmetrics\n",
    "from torchmetrics import Recall, Precision, Accuracy, AUROC  # Metrics to evaluate model performance"
   ]
  },
  {
   "cell_type": "code",
   "execution_count": 2,
   "metadata": {},
   "outputs": [],
   "source": [
    "# Defining transformations to apply to the training images\n",
    "train_transform = transforms.Compose([  # Compose allows stacking multiple transformations together\n",
    "    transforms.ToTensor(),  # Converts images to PyTorch tensors (from 0-255 range to 0-1 float range)\n",
    "    transforms.Resize((64, 64)),  # Resizes the images to 64x64 pixels\n",
    "])\n",
    "# Defining transformations to apply to the test images\n",
    "test_transform = transforms.Compose([  # Similar transformations for test images to ensure consistency\n",
    "    transforms.ToTensor(),  # Converts images to PyTorch tensors\n",
    "    transforms.Resize((64, 64))  # Resizes test images to 64x64 pixels\n",
    "])\n"
   ]
  },
  {
   "cell_type": "code",
   "execution_count": 3,
   "metadata": {},
   "outputs": [],
   "source": [
    "# Loading the training dataset from the specified folder\n",
    "dataset_train = ImageFolder(\n",
    "    'data/Combined dataset/train',  # Path to the training dataset\n",
    "    transform=train_transform  # Applying the defined transformations (ToTensor and Resize) to the training data\n",
    ")\n",
    "# Loading the testing dataset from the specified folder\n",
    "dataset_test = ImageFolder(\n",
    "    'data/Combined dataset/test',  # Path to the test dataset\n",
    "    transform=test_transform  # Applying the defined transformations to the test data\n",
    ")\n"
   ]
  },
  {
   "cell_type": "code",
   "execution_count": 4,
   "metadata": {},
   "outputs": [],
   "source": [
    "# Creating a DataLoader for the training dataset\n",
    "dataloader_train = DataLoader(dataset_train,  # The training dataset loaded using ImageFolder\n",
    "                              batch_size=32,  # Number of images to be passed through the network at once\n",
    "                              shuffle=True  # Randomly shuffle the data at each epoch for better training\n",
    ")\n",
    "\n",
    "# Creating a DataLoader for the test dataset\n",
    "dataloader_test = DataLoader(dataset_test,  # The test dataset loaded using ImageFolder\n",
    "                             batch_size=32,  # The same batch size as training to ensure consistency\n",
    "                             shuffle=True  # Optionally shuffle test data (can be False, but True here for demonstration)\n",
    ")\n"
   ]
  },
  {
   "cell_type": "code",
   "execution_count": 5,
   "metadata": {},
   "outputs": [
    {
     "name": "stdout",
     "output_type": "stream",
     "text": [
      "torch.Size([32, 3, 64, 64])\n"
     ]
    }
   ],
   "source": [
    "# Fetching one batch of data from the training DataLoader\n",
    "images, labels = next(iter(dataloader_train))  # 'iter' turns the DataLoader into an iterator, and 'next' gives the next batch\n",
    "print(images.shape)  # Printing the shape of the image batch (e.g., [32, 3, 64, 64]), where:\n",
    "# 32 = batch size, 3 = number of color channels (RGB), 64x64 = image dimensions"
   ]
  },
  {
   "cell_type": "code",
   "execution_count": 6,
   "metadata": {},
   "outputs": [
    {
     "data": {
      "image/png": "[encoded data removed]",
      "text/plain": [
       "<Figure size 640x480 with 1 Axes>"
      ]
     },
     "metadata": {},
     "output_type": "display_data"
    }
   ],
   "source": [
    "# Selecting the first image from the batch of images\n",
    "image = images[0]  # Accessing the first image tensor in the batch\n",
    "\n",
    "# Squeezing the tensor to remove any singleton dimensions (e.g., if the tensor shape is [1, 3, 64, 64])\n",
    "image = image.squeeze().permute(1, 2, 0)  # Permuting the dimensions to [height, width, channels] for display\n",
    "\n",
    "# Displaying the image using matplotlib\n",
    "plt.imshow(image)  # Displaying the image; Matplotlib expects channels last format (H, W, C)\n",
    "plt.show()  # Rendering the plot\n"
   ]
  },
  {
   "cell_type": "code",
   "execution_count": 7,
   "metadata": {},
   "outputs": [],
   "source": [
    "# Defining a neural network architecture by subclassing nn.Module\n",
    "class Net(nn.Module): \n",
    "    def __init__(self, num_classes):  # Constructor method that initializes the network\n",
    "        super().__init__()  # Calling the parent class (nn.Module) constructor\n",
    "        # Defining the feature extractor part of the network\n",
    "        self.feature_extractor = nn.Sequential(\n",
    "            nn.Conv2d(3, 32, kernel_size=2, padding=1),  # Convolutional layer: 3 input channels (RGB), 32 output channels\n",
    "            nn.ELU(),  # Activation function to introduce non-linearity\n",
    "            nn.MaxPool2d(kernel_size=2),  # Max pooling layer to reduce spatial dimensions\n",
    "            nn.Conv2d(32, 64, kernel_size=2, padding=1),  # Second convolutional layer: 32 input channels, 64 output channels\n",
    "            nn.ELU(),  # Another activation function\n",
    "            nn.MaxPool2d(kernel_size=2),  # Second max pooling layer\n",
    "            nn.Flatten()  # Flattening the output to feed into the fully connected layer\n",
    "        )\n",
    "        # Defining the classifier part of the network: a fully connected layer\n",
    "        self.classifier = nn.Linear(64 * 16 * 16, num_classes)  # Takes flattened features and outputs class scores\n",
    "\n",
    "    def forward(self, x):  # Forward pass through the network\n",
    "        x = self.feature_extractor(x)  # Passing input through the feature extractor\n",
    "        x = self.classifier(x)  # Passing extracted features to the classifier\n",
    "        return x  # Returning the output (class scores)\n"
   ]
  },
  {
   "cell_type": "code",
   "execution_count": 8,
   "metadata": {},
   "outputs": [],
   "source": [
    "# Initializing the neural network with the specified number of output classes\n",
    "net = Net(num_classes=4)  # Creating an instance of the Net class with 4 output classes (e.g., for a 4-class classification problem)\n",
    "\n",
    "# Defining the loss function for training\n",
    "criterion = nn.CrossEntropyLoss()  # Cross entropy loss is commonly used for multi-class classification problems\n",
    "\n",
    "# Initializing the optimizer for updating network weights\n",
    "optimizer = optim.Adam(net.parameters(), lr=0.001)  # Using the Adam optimizer with a learning rate of 0.001\n"
   ]
  },
  {
   "cell_type": "code",
   "execution_count": 9,
   "metadata": {},
   "outputs": [],
   "source": [
    "# Initializing metrics for model evaluation\n",
    "\n",
    "# Metric for recall: Measures the ability of the model to find all relevant instances (true positives)\n",
    "metric_recall = Recall(task='multiclass', num_classes=4, average='macro')  # 'macro' averages recall across all classes equally\n",
    "\n",
    "# Metric for precision: Measures the ability of the model to identify only relevant instances (true positives among all predicted positives)\n",
    "metric_precision = Precision(task='multiclass', num_classes=4, average='macro')  # 'macro' averages precision across all classes equally\n",
    "\n",
    "# Metric for accuracy: Measures the overall correctness of the model's predictions\n",
    "metric_accuracy = Accuracy(task='multiclass', num_classes=4, average='macro')  # 'macro' averages accuracy across all classes equally\n",
    "\n",
    "# Metric for recall with no averaging: Provides recall for each class individually\n",
    "metric_recall_m = Recall(task='multiclass', num_classes=4, average=None)  # 'None' returns recall for each class separately\n"
   ]
  },
  {
   "cell_type": "code",
   "execution_count": 10,
   "metadata": {},
   "outputs": [],
   "source": [
    "# Training and evaluation loop for the model\n",
    "for epoch in range(10):  # Looping through the specified number of epochs\n",
    "    net.train()  # Set the model to training mode\n",
    "    # Iterating through the training dataset\n",
    "    for images, labels in dataloader_train:\n",
    "        optimizer.zero_grad()  # Resetting the gradients for the optimizer\n",
    "        output = net(images)  # Forward pass: getting model predictions for the current batch\n",
    "        loss = criterion(output, labels)  # Calculating the loss using the predicted and actual labels\n",
    "        loss.backward()  # Backward pass: computing gradients\n",
    "        optimizer.step()  # Updating the model parameters\n",
    "\n",
    "    net.eval()  # Set the model to evaluation mode\n",
    "    with torch.no_grad():  # Disable gradient calculation for evaluation\n",
    "        # Iterating through the test dataset\n",
    "        for images, labels in dataloader_test:\n",
    "            output = net(images)  # Forward pass: getting predictions for the test batch\n",
    "            _, pred = torch.max(output, 1)  # Getting the predicted class labels (index of max logit)\n",
    "            # Updating metrics with the predictions and actual labels\n",
    "            metric_accuracy(pred, labels)  # Computing accuracy\n",
    "            metric_recall(pred, labels)  # Computing recall\n",
    "            metric_precision(pred, labels)  # Computing precision\n",
    "            metric_recall_m(pred, labels)  # Computing recall for each class separately\n",
    "\n",
    "    # Computing final metrics after evaluating the test dataset\n",
    "    precision = metric_precision.compute()  # Get the computed precision\n",
    "    recall = metric_recall.compute()  # Get the computed recall\n",
    "    accuracy = metric_accuracy.compute()  # Get the computed accuracy\n",
    "    recall_m = metric_recall_m.compute()  # Get the computed recall for each class\n"
   ]
  },
  {
   "cell_type": "code",
   "execution_count": 11,
   "metadata": {},
   "outputs": [
    {
     "name": "stdout",
     "output_type": "stream",
     "text": [
      "Precision: 0.8822296857833862\n",
      "Recall: 0.8884312510490417\n",
      "Accuracy: 0.8884312510490417\n",
      "Recall per class: tensor([0.8575, 1.0000, 0.8605, 0.8357])\n"
     ]
    }
   ],
   "source": [
    "# Printing the evaluation metrics after completing the training and testing loop\n",
    "print(f'Precision: {precision}')  # Displaying the overall precision of the model\n",
    "print(f'Recall: {recall}')  # Displaying the overall recall of the model\n",
    "print(f'Accuracy: {accuracy}')  # Displaying the overall accuracy of the model\n",
    "print(f'Recall per class: {recall_m}')  # Displaying the recall for each class individually\n"
   ]
  },
  {
   "cell_type": "code",
   "execution_count": 12,
   "metadata": {},
   "outputs": [
    {
     "name": "stdout",
     "output_type": "stream",
     "text": [
      "{'Mild Impairment': 0, 'Moderate Impairment': 1, 'No Impairment': 2, 'Very Mild Impairment': 3}\n"
     ]
    }
   ],
   "source": [
    "# Accessing the class-to-index mapping for the test dataset\n",
    "class_to_idx = dataset_test.class_to_idx  # This returns a dictionary mapping class names to their corresponding indices\n",
    "print(class_to_idx)  # Print the mapping to see which class corresponds to which index\n"
   ]
  },
  {
   "cell_type": "code",
   "execution_count": 13,
   "metadata": {},
   "outputs": [
    {
     "name": "stdout",
     "output_type": "stream",
     "text": [
      "{'Mild Impairment': 0.8575419187545776, 'Moderate Impairment': 1.0, 'No Impairment': 0.8604687452316284, 'Very Mild Impairment': 0.8357142806053162}\n"
     ]
    }
   ],
   "source": [
    "# Creating a dictionary mapping class names to their corresponding recall values\n",
    "recall_per_class = {\n",
    "    k: recall_m[v].item()  # For each class name (k), get the recall value for the corresponding index (v)\n",
    "    for k, v in dataset_test.class_to_idx.items()  # Iterating over the class-to-index mapping from the test dataset\n",
    "}\n",
    "\n",
    "print(recall_per_class)  # Print the recall values for each class"
   ]
  },
  {
   "cell_type": "code",
   "execution_count": null,
   "metadata": {},
   "outputs": [],
   "source": []
  }
 ],
 "metadata": {
  "kernelspec": {
   "display_name": "tensor",
   "language": "python",
   "name": "python3"
  },
  "language_info": {
   "codemirror_mode": {
    "name": "ipython",
    "version": 3
   },
   "file_extension": ".py",
   "mimetype": "text/x-python",
   "name": "python",
   "nbconvert_exporter": "python",
   "pygments_lexer": "ipython3",
   "version": "3.9.6"
  }
 },
 "nbformat": 4,
 "nbformat_minor": 2
}
